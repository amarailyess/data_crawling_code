{
 "cells": [
  {
   "cell_type": "code",
   "execution_count": 1,
   "id": "8520b590",
   "metadata": {},
   "outputs": [],
   "source": [
    "import pandas as pd"
   ]
  },
  {
   "cell_type": "code",
   "execution_count": 42,
   "id": "b94c9b1e",
   "metadata": {},
   "outputs": [],
   "source": [
    "df = pd.read_csv(\"resultat_affare.csv\")"
   ]
  },
  {
   "cell_type": "code",
   "execution_count": 43,
   "id": "5161964e",
   "metadata": {},
   "outputs": [
    {
     "data": {
      "text/html": [
       "<div>\n",
       "<style scoped>\n",
       "    .dataframe tbody tr th:only-of-type {\n",
       "        vertical-align: middle;\n",
       "    }\n",
       "\n",
       "    .dataframe tbody tr th {\n",
       "        vertical-align: top;\n",
       "    }\n",
       "\n",
       "    .dataframe thead th {\n",
       "        text-align: right;\n",
       "    }\n",
       "</style>\n",
       "<table border=\"1\" class=\"dataframe\">\n",
       "  <thead>\n",
       "    <tr style=\"text-align: right;\">\n",
       "      <th></th>\n",
       "      <th>title</th>\n",
       "      <th>price</th>\n",
       "      <th>place</th>\n",
       "      <th>kms</th>\n",
       "    </tr>\n",
       "  </thead>\n",
       "  <tbody>\n",
       "    <tr>\n",
       "      <th>0</th>\n",
       "      <td>A vendre</td>\n",
       "      <td>NaN</td>\n",
       "      <td>Ariana Ville</td>\n",
       "      <td>2000</td>\n",
       "    </tr>\n",
       "    <tr>\n",
       "      <th>1</th>\n",
       "      <td>Peugeot 301 en très bon état</td>\n",
       "      <td>24 000</td>\n",
       "      <td>Radès</td>\n",
       "      <td>144000</td>\n",
       "    </tr>\n",
       "    <tr>\n",
       "      <th>2</th>\n",
       "      <td>Renault symbol presque neuf</td>\n",
       "      <td>43 000</td>\n",
       "      <td>Hammam Chott</td>\n",
       "      <td>23000</td>\n",
       "    </tr>\n",
       "    <tr>\n",
       "      <th>3</th>\n",
       "      <td>Peugeot 2008</td>\n",
       "      <td>44 000</td>\n",
       "      <td>Ariana Ville</td>\n",
       "      <td>110000</td>\n",
       "    </tr>\n",
       "    <tr>\n",
       "      <th>4</th>\n",
       "      <td>Honda Accord Coupé 2.4l</td>\n",
       "      <td>41 000</td>\n",
       "      <td>Le Bardo</td>\n",
       "      <td>105000</td>\n",
       "    </tr>\n",
       "    <tr>\n",
       "      <th>...</th>\n",
       "      <td>...</td>\n",
       "      <td>...</td>\n",
       "      <td>...</td>\n",
       "      <td>...</td>\n",
       "    </tr>\n",
       "    <tr>\n",
       "      <th>145</th>\n",
       "      <td>Renault talisman grandtour</td>\n",
       "      <td>185 000</td>\n",
       "      <td>El Ouardia</td>\n",
       "      <td>94000</td>\n",
       "    </tr>\n",
       "    <tr>\n",
       "      <th>146</th>\n",
       "      <td>Fiat doblo (ndhifa)</td>\n",
       "      <td>NaN</td>\n",
       "      <td>El Ksar</td>\n",
       "      <td>140</td>\n",
       "    </tr>\n",
       "    <tr>\n",
       "      <th>147</th>\n",
       "      <td>Peugeot 407</td>\n",
       "      <td>1 750</td>\n",
       "      <td>Sahloul</td>\n",
       "      <td>545</td>\n",
       "    </tr>\n",
       "    <tr>\n",
       "      <th>148</th>\n",
       "      <td>Polo sedan TDI pas taxi</td>\n",
       "      <td>47 000</td>\n",
       "      <td>El Mourouj</td>\n",
       "      <td>70000</td>\n",
       "    </tr>\n",
       "    <tr>\n",
       "      <th>149</th>\n",
       "      <td>Isuzu</td>\n",
       "      <td>NaN</td>\n",
       "      <td>Manouba Ville</td>\n",
       "      <td>NaN</td>\n",
       "    </tr>\n",
       "  </tbody>\n",
       "</table>\n",
       "<p>150 rows × 4 columns</p>\n",
       "</div>"
      ],
      "text/plain": [
       "                             title    price          place     kms\n",
       "0                         A vendre      NaN   Ariana Ville    2000\n",
       "1    Peugeot 301 en très bon état    24 000          Radès  144000\n",
       "2     Renault symbol presque neuf    43 000   Hammam Chott   23000\n",
       "3                     Peugeot 2008   44 000   Ariana Ville  110000\n",
       "4          Honda Accord Coupé 2.4l   41 000       Le Bardo  105000\n",
       "..                             ...      ...            ...     ...\n",
       "145    Renault talisman grandtour   185 000     El Ouardia   94000\n",
       "146            Fiat doblo (ndhifa)      NaN        El Ksar     140\n",
       "147                    Peugeot 407    1 750        Sahloul     545\n",
       "148        Polo sedan TDI pas taxi   47 000     El Mourouj   70000\n",
       "149                         Isuzu       NaN  Manouba Ville     NaN\n",
       "\n",
       "[150 rows x 4 columns]"
      ]
     },
     "execution_count": 43,
     "metadata": {},
     "output_type": "execute_result"
    }
   ],
   "source": [
    "df"
   ]
  },
  {
   "cell_type": "code",
   "execution_count": 44,
   "id": "7b126e10",
   "metadata": {},
   "outputs": [
    {
     "data": {
      "text/plain": [
       "Index(['title', 'price', 'place', 'kms'], dtype='object')"
      ]
     },
     "execution_count": 44,
     "metadata": {},
     "output_type": "execute_result"
    }
   ],
   "source": [
    "df.columns"
   ]
  },
  {
   "cell_type": "code",
   "execution_count": 45,
   "id": "3b1b76ce",
   "metadata": {},
   "outputs": [],
   "source": [
    "df = df.dropna()"
   ]
  },
  {
   "cell_type": "code",
   "execution_count": 46,
   "id": "1de58605",
   "metadata": {},
   "outputs": [
    {
     "data": {
      "text/html": [
       "<div>\n",
       "<style scoped>\n",
       "    .dataframe tbody tr th:only-of-type {\n",
       "        vertical-align: middle;\n",
       "    }\n",
       "\n",
       "    .dataframe tbody tr th {\n",
       "        vertical-align: top;\n",
       "    }\n",
       "\n",
       "    .dataframe thead th {\n",
       "        text-align: right;\n",
       "    }\n",
       "</style>\n",
       "<table border=\"1\" class=\"dataframe\">\n",
       "  <thead>\n",
       "    <tr style=\"text-align: right;\">\n",
       "      <th></th>\n",
       "      <th>title</th>\n",
       "      <th>price</th>\n",
       "      <th>place</th>\n",
       "      <th>kms</th>\n",
       "    </tr>\n",
       "  </thead>\n",
       "  <tbody>\n",
       "    <tr>\n",
       "      <th>109</th>\n",
       "      <td>Skoda octavia</td>\n",
       "      <td>95 000</td>\n",
       "      <td>Ariana Ville</td>\n",
       "      <td>37000</td>\n",
       "    </tr>\n",
       "  </tbody>\n",
       "</table>\n",
       "</div>"
      ],
      "text/plain": [
       "              title   price         place    kms\n",
       "109  Skoda octavia   95 000  Ariana Ville  37000"
      ]
     },
     "execution_count": 46,
     "metadata": {},
     "output_type": "execute_result"
    }
   ],
   "source": [
    "df.loc[df['price'] == max(df['price'])]"
   ]
  },
  {
   "cell_type": "code",
   "execution_count": 47,
   "id": "75e1f653",
   "metadata": {},
   "outputs": [
    {
     "data": {
      "text/plain": [
       "'95 000'"
      ]
     },
     "execution_count": 47,
     "metadata": {},
     "output_type": "execute_result"
    }
   ],
   "source": [
    "max(df['price'])"
   ]
  },
  {
   "cell_type": "code",
   "execution_count": 30,
   "id": "e48c29d0",
   "metadata": {},
   "outputs": [
    {
     "data": {
      "text/plain": [
       "place\n",
       "Ain Draham                                                           [4500]\n",
       "Akouda                                                              [22000]\n",
       "Ariana Ville              [44000, 22500, 22500, 45000, 33000, 95000, 300...\n",
       "Aïn Zaghouan                                                        [69000]\n",
       "Ben Arous                                                    [46500, 32000]\n",
       "Bizerte Nord                                                    [28500, 30]\n",
       "Bizerte Sud                                                         [34900]\n",
       "Borj Louzir                                                  [36500, 31000]\n",
       "Boumhel                                                             [15500]\n",
       "Carthage                                       [33000, 70000, 79000, 40000]\n",
       "Dar Châabane El Fehri                                         [1200, 35000]\n",
       "Djedeida                                                             [9999]\n",
       "El Mourouj                                     [27500, 62000, 54000, 47000]\n",
       "El Omrane                                                           [18000]\n",
       "El Ouardia                                                  [28500, 185000]\n",
       "Ennasr                                                [40000, 70000, 28500]\n",
       "Ezzahra                                                 [127000, 26000, 33]\n",
       "Ghazela                                                             [17000]\n",
       "Hammam Chott                                                        [43000]\n",
       "Hammam Lif                                                          [53000]\n",
       "Hammam Sousse                                                       [33500]\n",
       "Hammamet                                            [32000, 9999999, 34500]\n",
       "Jebiniana                                                           [37000]\n",
       "Jemmal                                                                [600]\n",
       "Jendouba                                                            [19500]\n",
       "Jendouba Nord                                                       [25600]\n",
       "Kairouan Nord                                                       [28000]\n",
       "Kef Est                                                             [18500]\n",
       "Korba                                                 [66000, 58000, 92000]\n",
       "La Marsa                               [31000, 22000, 24500, 120000, 52000]\n",
       "La Soukra                                      [21800, 49900, 68000, 58000]\n",
       "Le Bardo                  [41000, 65000, 39800, 160, 72000, 72000, 23000...\n",
       "Les Berges Du Lac                     [118000, 56000, 130000, 56000, 51000]\n",
       "Mahdia                                                       [30500, 30500]\n",
       "Manouba Ville                                         [73000, 23700, 23000]\n",
       "Medina Jedida                                                       [19000]\n",
       "Menzah                                                              [55000]\n",
       "Mnihla                                                              [10500]\n",
       "Monastir                     [19, 28000, 25500, 37500, 26000, 52000, 15000]\n",
       "Mégrine                                                      [24900, 42500]\n",
       "Nabeul                                  [31000, 68000, 25000, 33000, 50000]\n",
       "Radès                                                               [24000]\n",
       "Raoued                                                              [11500]\n",
       "Route Matar                                                        [135000]\n",
       "Route Menzel Chaker                                                 [32000]\n",
       "Sahloul                                  [82000, 88000, 63500, 28500, 1750]\n",
       "Sakiet Eddaïer                                                      [25000]\n",
       "Sakiet Ezzit                                                 [55000, 55000]\n",
       "Sayada-Lamta-Bou Hajar                                              [29500]\n",
       "Sfax Ville                                 [36000, 41, 24000, 60000, 22500]\n",
       "Sidi Bou Ali                                                        [24500]\n",
       "Sidi El Béchir                                                      [31500]\n",
       "Sousse Jawhara                                                         [39]\n",
       "Zarzouna                                                            [36500]\n",
       "Name: price, dtype: object"
      ]
     },
     "execution_count": 30,
     "metadata": {},
     "output_type": "execute_result"
    }
   ],
   "source": [
    "df.groupby('place')['price'].apply(list)"
   ]
  },
  {
   "cell_type": "code",
   "execution_count": 63,
   "id": "03e859aa",
   "metadata": {},
   "outputs": [],
   "source": [
    "df1 = pd.DataFrame(df['title']+df['price'])"
   ]
  },
  {
   "cell_type": "code",
   "execution_count": 64,
   "id": "0571985d",
   "metadata": {},
   "outputs": [],
   "source": [
    "df2 = pd.DataFrame(df['price'])"
   ]
  },
  {
   "cell_type": "code",
   "execution_count": 69,
   "id": "6b52ab51",
   "metadata": {},
   "outputs": [
    {
     "data": {
      "text/html": [
       "<div>\n",
       "<style scoped>\n",
       "    .dataframe tbody tr th:only-of-type {\n",
       "        vertical-align: middle;\n",
       "    }\n",
       "\n",
       "    .dataframe tbody tr th {\n",
       "        vertical-align: top;\n",
       "    }\n",
       "\n",
       "    .dataframe thead th {\n",
       "        text-align: right;\n",
       "    }\n",
       "</style>\n",
       "<table border=\"1\" class=\"dataframe\">\n",
       "  <thead>\n",
       "    <tr style=\"text-align: right;\">\n",
       "      <th></th>\n",
       "      <th>0</th>\n",
       "    </tr>\n",
       "  </thead>\n",
       "  <tbody>\n",
       "    <tr>\n",
       "      <th>1</th>\n",
       "      <td>Peugeot 301 en très bon état 24 000</td>\n",
       "    </tr>\n",
       "    <tr>\n",
       "      <th>2</th>\n",
       "      <td>Renault symbol presque neuf 43 000</td>\n",
       "    </tr>\n",
       "    <tr>\n",
       "      <th>3</th>\n",
       "      <td>Peugeot 200844 000</td>\n",
       "    </tr>\n",
       "    <tr>\n",
       "      <th>4</th>\n",
       "      <td>Honda Accord Coupé 2.4l41 000</td>\n",
       "    </tr>\n",
       "    <tr>\n",
       "      <th>6</th>\n",
       "      <td>Mini Cooper ou échange65 000</td>\n",
       "    </tr>\n",
       "    <tr>\n",
       "      <th>...</th>\n",
       "      <td>...</td>\n",
       "    </tr>\n",
       "    <tr>\n",
       "      <th>142</th>\n",
       "      <td>Vente dacia dokker24 500</td>\n",
       "    </tr>\n",
       "    <tr>\n",
       "      <th>144</th>\n",
       "      <td>A vendre MG GS58 000</td>\n",
       "    </tr>\n",
       "    <tr>\n",
       "      <th>145</th>\n",
       "      <td>Renault talisman grandtour 185 000</td>\n",
       "    </tr>\n",
       "    <tr>\n",
       "      <th>147</th>\n",
       "      <td>Peugeot 4071 750</td>\n",
       "    </tr>\n",
       "    <tr>\n",
       "      <th>148</th>\n",
       "      <td>Polo sedan TDI pas taxi47 000</td>\n",
       "    </tr>\n",
       "  </tbody>\n",
       "</table>\n",
       "<p>122 rows × 1 columns</p>\n",
       "</div>"
      ],
      "text/plain": [
       "                                       0\n",
       "1    Peugeot 301 en très bon état 24 000\n",
       "2     Renault symbol presque neuf 43 000\n",
       "3                     Peugeot 200844 000\n",
       "4          Honda Accord Coupé 2.4l41 000\n",
       "6           Mini Cooper ou échange65 000\n",
       "..                                   ...\n",
       "142             Vente dacia dokker24 500\n",
       "144                 A vendre MG GS58 000\n",
       "145   Renault talisman grandtour 185 000\n",
       "147                     Peugeot 4071 750\n",
       "148        Polo sedan TDI pas taxi47 000\n",
       "\n",
       "[122 rows x 1 columns]"
      ]
     },
     "execution_count": 69,
     "metadata": {},
     "output_type": "execute_result"
    }
   ],
   "source": [
    "df1"
   ]
  }
 ],
 "metadata": {
  "kernelspec": {
   "display_name": "Python 3 (ipykernel)",
   "language": "python",
   "name": "python3"
  },
  "language_info": {
   "codemirror_mode": {
    "name": "ipython",
    "version": 3
   },
   "file_extension": ".py",
   "mimetype": "text/x-python",
   "name": "python",
   "nbconvert_exporter": "python",
   "pygments_lexer": "ipython3",
   "version": "3.9.12"
  }
 },
 "nbformat": 4,
 "nbformat_minor": 5
}
